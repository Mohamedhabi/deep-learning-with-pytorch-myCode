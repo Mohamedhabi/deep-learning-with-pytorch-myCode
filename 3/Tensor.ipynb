{
 "metadata": {
  "language_info": {
   "codemirror_mode": {
    "name": "ipython",
    "version": 3
   },
   "file_extension": ".py",
   "mimetype": "text/x-python",
   "name": "python",
   "nbconvert_exporter": "python",
   "pygments_lexer": "ipython3",
   "version": "3.8.5-final"
  },
  "orig_nbformat": 2,
  "kernelspec": {
   "name": "python3",
   "display_name": "Python 3"
  }
 },
 "nbformat": 4,
 "nbformat_minor": 2,
 "cells": [
  {
   "source": [
    "# Tensors"
   ],
   "cell_type": "markdown",
   "metadata": {}
  },
  {
   "cell_type": "code",
   "execution_count": 1,
   "metadata": {},
   "outputs": [],
   "source": [
    "import torch"
   ]
  },
  {
   "cell_type": "code",
   "execution_count": 2,
   "metadata": {},
   "outputs": [
    {
     "output_type": "stream",
     "name": "stdout",
     "text": [
      "tensor(1.)   1.0\n"
     ]
    }
   ],
   "source": [
    "a = torch.ones(3)\n",
    "print(a[0],\" \",float(a[0]))"
   ]
  },
  {
   "cell_type": "code",
   "execution_count": 3,
   "metadata": {},
   "outputs": [
    {
     "output_type": "execute_result",
     "data": {
      "text/plain": [
       "tensor([[1., 1.],\n",
       "        [2., 2.],\n",
       "        [3., 3.]])"
      ]
     },
     "metadata": {},
     "execution_count": 3
    }
   ],
   "source": [
    "points = torch.tensor([[1.,1.],[2.,2.],[3.,3.]])\n",
    "points"
   ]
  },
  {
   "cell_type": "code",
   "execution_count": 4,
   "metadata": {},
   "outputs": [
    {
     "output_type": "execute_result",
     "data": {
      "text/plain": [
       "torch.Size([3, 2])"
      ]
     },
     "metadata": {},
     "execution_count": 4
    }
   ],
   "source": [
    "points.shape"
   ]
  },
  {
   "source": [
    "## Named tensors"
   ],
   "cell_type": "markdown",
   "metadata": {}
  },
  {
   "cell_type": "code",
   "execution_count": 5,
   "metadata": {},
   "outputs": [],
   "source": [
    "img_t = torch.randn(3, 5, 5) # shape [channels, rows, columns]\n",
    "weights = torch.tensor([0.2126, 0.7152, 0.0722])"
   ]
  },
  {
   "cell_type": "code",
   "execution_count": 6,
   "metadata": {},
   "outputs": [],
   "source": [
    "batch_t = torch.randn(2, 3, 5, 5) # shape [batch, channels, rows, columns]"
   ]
  },
  {
   "cell_type": "code",
   "execution_count": 7,
   "metadata": {},
   "outputs": [
    {
     "output_type": "execute_result",
     "data": {
      "text/plain": [
       "(torch.Size([5, 5]), torch.Size([2, 5, 5]))"
      ]
     },
     "metadata": {},
     "execution_count": 7
    }
   ],
   "source": [
    "img_gray_naive = img_t.mean(-3)\n",
    "batch_gray_naive = batch_t.mean(-3)\n",
    "img_gray_naive.shape, batch_gray_naive.shape"
   ]
  },
  {
   "cell_type": "code",
   "execution_count": 8,
   "metadata": {},
   "outputs": [
    {
     "output_type": "execute_result",
     "data": {
      "text/plain": [
       "(torch.Size([2, 3, 5, 5]), torch.Size([2, 3, 5, 5]), torch.Size([3, 1, 1]))"
      ]
     },
     "metadata": {},
     "execution_count": 8
    }
   ],
   "source": [
    "unsqueezed_weights = weights.unsqueeze(-1).unsqueeze_(-1)\n",
    "unsqueezed_weights\n",
    "img_weights = (img_t * unsqueezed_weights)\n",
    "batch_weights = (batch_t * unsqueezed_weights)\n",
    "img_gray_weighted = img_weights.sum(-3)\n",
    "batch_gray_weighted = batch_weights.sum(-3)\n",
    "batch_weights.shape, batch_t.shape, unsqueezed_weights.shape"
   ]
  },
  {
   "cell_type": "code",
   "execution_count": 9,
   "metadata": {},
   "outputs": [
    {
     "output_type": "execute_result",
     "data": {
      "text/plain": [
       "tensor([0.2126, 0.7152, 0.0722], names=('channels',))"
      ]
     },
     "metadata": {},
     "execution_count": 9
    }
   ],
   "source": [
    "weights_named = torch.tensor([0.2126, 0.7152, 0.0722], names=['channels'])\n",
    "weights_named"
   ]
  },
  {
   "cell_type": "code",
   "execution_count": 10,
   "metadata": {},
   "outputs": [
    {
     "output_type": "stream",
     "name": "stdout",
     "text": [
      "img named: torch.Size([3, 5, 5]) ('channels', 'rows', 'columns')\nbatch named: torch.Size([2, 3, 5, 5]) (None, 'channels', 'rows', 'columns')\n"
     ]
    }
   ],
   "source": [
    "img_named = img_t.refine_names(..., 'channels', 'rows', 'columns')\n",
    "batch_named = batch_t.refine_names(..., 'channels', 'rows', 'columns')\n",
    "print(\"img named:\", img_named.shape, img_named.names)\n",
    "print(\"batch named:\", batch_named.shape, batch_named.names)"
   ]
  },
  {
   "cell_type": "code",
   "execution_count": 11,
   "metadata": {},
   "outputs": [
    {
     "output_type": "execute_result",
     "data": {
      "text/plain": [
       "(torch.Size([3, 1, 1]), ('channels', 'rows', 'columns'))"
      ]
     },
     "metadata": {},
     "execution_count": 11
    }
   ],
   "source": [
    "weights_aligned = weights_named.align_as(img_named)\n",
    "weights_aligned.shape, weights_aligned.names"
   ]
  },
  {
   "cell_type": "code",
   "execution_count": 12,
   "metadata": {},
   "outputs": [
    {
     "output_type": "execute_result",
     "data": {
      "text/plain": [
       "(torch.Size([5, 5]), ('rows', 'columns'))"
      ]
     },
     "metadata": {},
     "execution_count": 12
    }
   ],
   "source": [
    "gray_named = (img_named * weights_aligned).sum('channels')\n",
    "gray_named.shape, gray_named.names"
   ]
  },
  {
   "source": [
    "## Tensor element types"
   ],
   "cell_type": "markdown",
   "metadata": {}
  },
  {
   "cell_type": "code",
   "execution_count": 13,
   "metadata": {},
   "outputs": [
    {
     "output_type": "execute_result",
     "data": {
      "text/plain": [
       "tensor([1, 2, 3], dtype=torch.uint8)"
      ]
     },
     "metadata": {},
     "execution_count": 13
    }
   ],
   "source": [
    "# float32 and int64 are the most used\n",
    "x_t = torch.tensor([1,2,3],dtype= torch.uint8)\n",
    "x_t"
   ]
  },
  {
   "cell_type": "code",
   "execution_count": 14,
   "metadata": {},
   "outputs": [
    {
     "output_type": "execute_result",
     "data": {
      "text/plain": [
       "tensor([1., 2., 3.], dtype=torch.float64)"
      ]
     },
     "metadata": {},
     "execution_count": 14
    }
   ],
   "source": [
    "double_points = x_t.double()\n",
    "# or double_points = x_t.to(torch.double)\n",
    "double_points"
   ]
  },
  {
   "source": [
    "## The tensor API"
   ],
   "cell_type": "markdown",
   "metadata": {}
  },
  {
   "cell_type": "code",
   "execution_count": 15,
   "metadata": {},
   "outputs": [
    {
     "output_type": "execute_result",
     "data": {
      "text/plain": [
       "(tensor([ 2.2000, -2.0000, -4.0000]),\n",
       " tensor([2.2000, 2.0000, 4.0000]),\n",
       " tensor([nan, nan, nan]),\n",
       " tensor([0.7885,    nan,    nan]),\n",
       " tensor([1.1375,    nan,    nan]),\n",
       " tensor([-2.2000,  2.0000,  4.0000]),\n",
       " tensor([ 4.8400,  4.0000, 16.0000]),\n",
       " tensor([ 2., -2., -4.]),\n",
       " tensor([0.9002, 0.1192, 0.0180]),\n",
       " tensor([ 0.9757, -0.9640, -0.9993]))"
      ]
     },
     "metadata": {},
     "execution_count": 15
    }
   ],
   "source": [
    "y_t = torch.tensor([2.2,-2.,-4.])\n",
    "y_t, abs(y_t), y_t.acos(), y_t.log(), y_t.log2(), y_t.neg(), y_t.pow(2), y_t.round(), y_t.sigmoid(), y_t.tanh()"
   ]
  },
  {
   "cell_type": "code",
   "execution_count": 16,
   "metadata": {},
   "outputs": [
    {
     "output_type": "execute_result",
     "data": {
      "text/plain": [
       "(tensor([ 4.4000,  4.0000, 16.0000]), tensor([ 4.4000,  4.0000, 16.0000]))"
      ]
     },
     "metadata": {},
     "execution_count": 16
    }
   ],
   "source": [
    "z_t = torch.tensor([2.,-2.,-4.])\n",
    "z_t * y_t, z_t.mul(y_t), "
   ]
  },
  {
   "cell_type": "code",
   "execution_count": 17,
   "metadata": {},
   "outputs": [
    {
     "output_type": "execute_result",
     "data": {
      "text/plain": [
       "(tensor(2.), tensor(-1.3333), tensor(3.0551), tensor(4.8990))"
      ]
     },
     "metadata": {},
     "execution_count": 17
    }
   ],
   "source": [
    "z_t.max(), z_t.mean(), z_t.std(), z_t.norm()"
   ]
  },
  {
   "cell_type": "code",
   "execution_count": 18,
   "metadata": {},
   "outputs": [
    {
     "output_type": "execute_result",
     "data": {
      "text/plain": [
       "(tensor(9.),\n",
       " tensor(-28.0000),\n",
       " (tensor([[6.0000, 2.0000, 4.0000],\n",
       "          [0.6667, 3.6667, 3.3333],\n",
       "          [0.0000, 0.8182, 1.2727]]),\n",
       "  tensor([3, 2, 3], dtype=torch.int32)),\n",
       " tensor([[3., 3., 4.],\n",
       "         [9., 5., 6.],\n",
       "         [8., 2., 4.]]))"
      ]
     },
     "metadata": {},
     "execution_count": 18
    }
   ],
   "source": [
    "mat_t = torch.tensor([\n",
    "    [0,3,4],\n",
    "    [4,5,6],\n",
    "    [6,2,4]\n",
    "],dtype = torch.float32)\n",
    "\n",
    "mat2_t = torch.tensor([\n",
    "    [1,0,0],\n",
    "    [1,1,0],\n",
    "    [0,0,1]\n",
    "],dtype = torch.float32)\n",
    "mat_t.trace(), mat_t.det(), mat_t.lu(), mat_t.matmul(mat2_t)"
   ]
  },
  {
   "cell_type": "code",
   "execution_count": 19,
   "metadata": {},
   "outputs": [
    {
     "output_type": "execute_result",
     "data": {
      "text/plain": [
       " 0.0\n",
       " 3.0\n",
       " 4.0\n",
       " 4.0\n",
       " 5.0\n",
       " 6.0\n",
       " 6.0\n",
       " 2.0\n",
       " 4.0\n",
       "[torch.FloatStorage of size 9]"
      ]
     },
     "metadata": {},
     "execution_count": 19
    }
   ],
   "source": [
    "mat_t.storage()"
   ]
  },
  {
   "source": [
    "### in place _"
   ],
   "cell_type": "markdown",
   "metadata": {}
  },
  {
   "cell_type": "code",
   "execution_count": 20,
   "metadata": {},
   "outputs": [
    {
     "output_type": "execute_result",
     "data": {
      "text/plain": [
       "tensor([[0., 0.],\n",
       "        [0., 0.],\n",
       "        [0., 0.]])"
      ]
     },
     "metadata": {},
     "execution_count": 20
    }
   ],
   "source": [
    "r = torch.ones(3, 2)\n",
    "r.zero_()\n",
    "r"
   ]
  },
  {
   "source": [
    "## Tensor metadata: Size, offset, and stride"
   ],
   "cell_type": "markdown",
   "metadata": {}
  },
  {
   "cell_type": "code",
   "execution_count": 21,
   "metadata": {},
   "outputs": [
    {
     "output_type": "execute_result",
     "data": {
      "text/plain": [
       "(2, torch.Size([2]), (1,), (2, 1))"
      ]
     },
     "metadata": {},
     "execution_count": 21
    }
   ],
   "source": [
    "points = torch.tensor([[4.0, 1.0], [5.0, 3.0], [2.0, 1.0]])\n",
    "second_point = points[1]\n",
    "\n",
    "second_point.storage_offset(), second_point.size(),second_point.stride(), points.stride()"
   ]
  },
  {
   "cell_type": "code",
   "execution_count": 22,
   "metadata": {},
   "outputs": [
    {
     "output_type": "execute_result",
     "data": {
      "text/plain": [
       "(tensor([[ 4.,  1.],\n",
       "         [10.,  3.],\n",
       "         [ 2.,  1.]]),\n",
       " True)"
      ]
     },
     "metadata": {},
     "execution_count": 22
    }
   ],
   "source": [
    "# changing the subtensor will have a side effect on the original tensor:\n",
    "points = torch.tensor([[4.0, 1.0], [5.0, 3.0], [2.0, 1.0]])\n",
    "second_point = points[1]\n",
    "second_point[0] = 10.0\n",
    "points, id(points.storage()) == id(second_point.storage())"
   ]
  },
  {
   "cell_type": "code",
   "execution_count": 23,
   "metadata": {},
   "outputs": [
    {
     "output_type": "execute_result",
     "data": {
      "text/plain": [
       "(tensor([[4., 1.],\n",
       "         [5., 3.],\n",
       "         [2., 1.]]),\n",
       " True)"
      ]
     },
     "metadata": {},
     "execution_count": 23
    }
   ],
   "source": [
    "# clone \n",
    "points = torch.tensor([[4.0, 1.0], [5.0, 3.0], [2.0, 1.0]])\n",
    "third_point = points[1].clone()\n",
    "third_point[0] = 10.0\n",
    "points, id(points.storage()) == id(third_point.storage())"
   ]
  },
  {
   "source": [
    "### Contiguous tensors"
   ],
   "cell_type": "markdown",
   "metadata": {}
  },
  {
   "cell_type": "code",
   "execution_count": 24,
   "metadata": {},
   "outputs": [
    {
     "output_type": "execute_result",
     "data": {
      "text/plain": [
       "(True, False)"
      ]
     },
     "metadata": {},
     "execution_count": 24
    }
   ],
   "source": [
    "points.is_contiguous(), points[:,0].is_contiguous()"
   ]
  },
  {
   "cell_type": "code",
   "execution_count": 25,
   "metadata": {},
   "outputs": [
    {
     "output_type": "execute_result",
     "data": {
      "text/plain": [
       "(tensor([[8, 1],\n",
       "         [5, 3],\n",
       "         [2, 1]]),\n",
       " tensor([[4., 5., 2.],\n",
       "         [1., 3., 1.]]),\n",
       "  4.0\n",
       "  5.0\n",
       "  2.0\n",
       "  1.0\n",
       "  3.0\n",
       "  1.0\n",
       " [torch.FloatStorage of size 6],\n",
       "  8\n",
       "  1\n",
       "  5\n",
       "  3\n",
       "  2\n",
       "  1\n",
       " [torch.LongStorage of size 6],\n",
       " 140460506821568,\n",
       " 140460506821568,\n",
       " True)"
      ]
     },
     "metadata": {},
     "execution_count": 25
    }
   ],
   "source": [
    "pointss = torch.tensor([[4, 1], [5, 3], [2, 1]])\n",
    "points_ts = points.t()\n",
    "points_ts\n",
    "points_t_cont = points_ts.contiguous()\n",
    "pointss.storage()[0]=8\n",
    "pointss,points_t_cont,points_t_cont.storage(),pointss.storage(),id(points_t_cont.storage()),id(pointss.storage()) ,id(points_t_cont.storage())== id(pointss.storage()) #wtffffff!!!!!!!!!! because it gives the address of the fucntion if we store storage in  variable it will give us the correct result"
   ]
  },
  {
   "cell_type": "code",
   "execution_count": 27,
   "metadata": {},
   "outputs": [
    {
     "output_type": "execute_result",
     "data": {
      "text/plain": [
       "(tensor([[8, 1],\n",
       "         [5, 3],\n",
       "         [2, 1]]),\n",
       " tensor([[4., 5., 2.],\n",
       "         [1., 3., 1.]]),\n",
       "  4.0\n",
       "  5.0\n",
       "  2.0\n",
       "  1.0\n",
       "  3.0\n",
       "  1.0\n",
       " [torch.FloatStorage of size 6],\n",
       "  8\n",
       "  1\n",
       "  5\n",
       "  3\n",
       "  2\n",
       "  1\n",
       " [torch.LongStorage of size 6],\n",
       " 140460506822656,\n",
       " 140460506218624,\n",
       " False)"
      ]
     },
     "metadata": {},
     "execution_count": 27
    }
   ],
   "source": [
    "points_t_cont_storage =points_t_cont.storage()\n",
    "pointss_storage = pointss.storage()\n",
    "pointss,points_t_cont,points_t_cont.storage(),pointss.storage(),id(points_t_cont_stotage),id(pointss_storage) ,id(points_t_cont_storage)== id(pointss_storage) #wtffffff!!!!!!!!!! because it gives the address of the fucntion if we store storage in  variable it will give us the correct result"
   ]
  },
  {
   "source": [
    "## 3.10 NumPy interoperability"
   ],
   "cell_type": "markdown",
   "metadata": {}
  },
  {
   "cell_type": "code",
   "execution_count": 30,
   "metadata": {},
   "outputs": [
    {
     "output_type": "execute_result",
     "data": {
      "text/plain": [
       "(array([[1., 1., 1., 1.],\n",
       "        [1., 1., 1., 1.],\n",
       "        [1., 1., 1., 1.]], dtype=float32),\n",
       " tensor([[1., 1., 1., 1.],\n",
       "         [1., 1., 1., 1.],\n",
       "         [1., 1., 1., 1.]]))"
      ]
     },
     "metadata": {},
     "execution_count": 30
    }
   ],
   "source": [
    "pb = torch.ones(3, 4)\n",
    "points_np = pb.numpy()\n",
    "points_np, torch.from_numpy(points_np)"
   ]
  },
  {
   "source": [
    "## Serializing tensors"
   ],
   "cell_type": "markdown",
   "metadata": {}
  },
  {
   "cell_type": "code",
   "execution_count": 31,
   "metadata": {},
   "outputs": [],
   "source": [
    "torch.save(points, './ourpoints.t')"
   ]
  },
  {
   "cell_type": "code",
   "execution_count": 32,
   "metadata": {},
   "outputs": [],
   "source": [
    "with open('./ourpoints.t','wb') as f:\n",
    "    torch.save(points, f)"
   ]
  },
  {
   "cell_type": "code",
   "execution_count": 33,
   "metadata": {},
   "outputs": [],
   "source": [
    "with open('./ourpoints.t','rb') as f: \n",
    "    points = torch.load(f)"
   ]
  },
  {
   "source": [
    "##### Serializing to HDF5 with h5py"
   ],
   "cell_type": "markdown",
   "metadata": {}
  },
  {
   "cell_type": "code",
   "execution_count": 35,
   "metadata": {},
   "outputs": [],
   "source": [
    "import h5py"
   ]
  },
  {
   "cell_type": "code",
   "execution_count": 36,
   "metadata": {},
   "outputs": [],
   "source": [
    "f = h5py.File('./ourpoints.hdf5', 'w')\n",
    "dset = f.create_dataset('coords', data=points.numpy())\n",
    "f.close()"
   ]
  },
  {
   "cell_type": "code",
   "execution_count": 38,
   "metadata": {},
   "outputs": [
    {
     "output_type": "execute_result",
     "data": {
      "text/plain": [
       "array([[5., 3.],\n",
       "       [2., 1.]], dtype=float32)"
      ]
     },
     "metadata": {},
     "execution_count": 38
    }
   ],
   "source": [
    "f = h5py.File('./ourpoints.hdf5', 'r')\n",
    "dset = f['coords']\n",
    "last_points = dset[-2:]# only these rows are loded\n",
    "last_points"
   ]
  }
 ]
}